{
 "cells": [
  {
   "cell_type": "code",
   "execution_count": 4,
   "metadata": {},
   "outputs": [
    {
     "name": "stdout",
     "output_type": "stream",
     "text": [
      "Requirement already satisfied: numpy in /Users/andressacolin/Desktop/Topicos-Avancados-InteligenciaArtificial/venv/lib/python3.13/site-packages (2.2.5)\n",
      "\n",
      "\u001b[1m[\u001b[0m\u001b[34;49mnotice\u001b[0m\u001b[1;39;49m]\u001b[0m\u001b[39;49m A new release of pip is available: \u001b[0m\u001b[31;49m25.0.1\u001b[0m\u001b[39;49m -> \u001b[0m\u001b[32;49m25.1.1\u001b[0m\n",
      "\u001b[1m[\u001b[0m\u001b[34;49mnotice\u001b[0m\u001b[1;39;49m]\u001b[0m\u001b[39;49m To update, run: \u001b[0m\u001b[32;49mpip install --upgrade pip\u001b[0m\n",
      "Collecting scikit-learn\n",
      "  Using cached scikit_learn-1.6.1-cp313-cp313-macosx_12_0_arm64.whl.metadata (31 kB)\n",
      "Requirement already satisfied: numpy>=1.19.5 in /Users/andressacolin/Desktop/Topicos-Avancados-InteligenciaArtificial/venv/lib/python3.13/site-packages (from scikit-learn) (2.2.5)\n",
      "Collecting scipy>=1.6.0 (from scikit-learn)\n",
      "  Using cached scipy-1.15.3-cp313-cp313-macosx_14_0_arm64.whl.metadata (61 kB)\n",
      "Collecting joblib>=1.2.0 (from scikit-learn)\n",
      "  Using cached joblib-1.5.0-py3-none-any.whl.metadata (5.6 kB)\n",
      "Collecting threadpoolctl>=3.1.0 (from scikit-learn)\n",
      "  Using cached threadpoolctl-3.6.0-py3-none-any.whl.metadata (13 kB)\n",
      "Using cached scikit_learn-1.6.1-cp313-cp313-macosx_12_0_arm64.whl (11.1 MB)\n",
      "Using cached joblib-1.5.0-py3-none-any.whl (307 kB)\n",
      "Using cached scipy-1.15.3-cp313-cp313-macosx_14_0_arm64.whl (22.4 MB)\n",
      "Using cached threadpoolctl-3.6.0-py3-none-any.whl (18 kB)\n",
      "Installing collected packages: threadpoolctl, scipy, joblib, scikit-learn\n",
      "Successfully installed joblib-1.5.0 scikit-learn-1.6.1 scipy-1.15.3 threadpoolctl-3.6.0\n",
      "\n",
      "\u001b[1m[\u001b[0m\u001b[34;49mnotice\u001b[0m\u001b[1;39;49m]\u001b[0m\u001b[39;49m A new release of pip is available: \u001b[0m\u001b[31;49m25.0.1\u001b[0m\u001b[39;49m -> \u001b[0m\u001b[32;49m25.1.1\u001b[0m\n",
      "\u001b[1m[\u001b[0m\u001b[34;49mnotice\u001b[0m\u001b[1;39;49m]\u001b[0m\u001b[39;49m To update, run: \u001b[0m\u001b[32;49mpip install --upgrade pip\u001b[0m\n"
     ]
    }
   ],
   "source": [
    "!pip install numpy\n",
    "!pip install scikit-learn"
   ]
  },
  {
   "cell_type": "code",
   "execution_count": 6,
   "metadata": {},
   "outputs": [],
   "source": [
    "import numpy as np\n",
    "from sklearn.datasets import load_iris\n",
    "from sklearn.model_selection import train_test_split\n",
    "from sklearn.neighbors import KNeighborsClassifier\n",
    "from sklearn.metrics import accuracy_score"
   ]
  },
  {
   "cell_type": "markdown",
   "metadata": {},
   "source": [
    "# implementando modelo\n"
   ]
  },
  {
   "cell_type": "code",
   "execution_count": 8,
   "metadata": {},
   "outputs": [],
   "source": [
    "from sklearn.datasets import load_iris\n",
    "\n",
    "iris = load_iris()\n",
    "X = iris.data      # As features (4 colunas)\n",
    "y = iris.target    # Os rótulos (classe da flor)"
   ]
  },
  {
   "cell_type": "markdown",
   "metadata": {},
   "source": [
    "Explorando o Bunch "
   ]
  },
  {
   "cell_type": "code",
   "execution_count": null,
   "metadata": {
    "execution": {
     "iopub.execute_input": "2025-04-28T20:58:43.526874Z",
     "iopub.status.busy": "2025-04-28T20:58:43.525923Z",
     "iopub.status.idle": "2025-04-28T20:58:43.531804Z",
     "shell.execute_reply": "2025-04-28T20:58:43.530902Z",
     "shell.execute_reply.started": "2025-04-28T20:58:43.526840Z"
    }
   },
   "outputs": [],
   "source": [
    "print(iris.keys())"
   ]
  },
  {
   "cell_type": "code",
   "execution_count": null,
   "metadata": {
    "execution": {
     "iopub.execute_input": "2025-04-28T21:00:35.921932Z",
     "iopub.status.busy": "2025-04-28T21:00:35.921567Z",
     "iopub.status.idle": "2025-04-28T21:00:35.927114Z",
     "shell.execute_reply": "2025-04-28T21:00:35.926120Z",
     "shell.execute_reply.started": "2025-04-28T21:00:35.921909Z"
    }
   },
   "outputs": [],
   "source": [
    "print(iris.data[:5])"
   ]
  },
  {
   "cell_type": "code",
   "execution_count": null,
   "metadata": {
    "execution": {
     "iopub.execute_input": "2025-04-28T21:01:49.120458Z",
     "iopub.status.busy": "2025-04-28T21:01:49.120155Z",
     "iopub.status.idle": "2025-04-28T21:01:49.125612Z",
     "shell.execute_reply": "2025-04-28T21:01:49.124559Z",
     "shell.execute_reply.started": "2025-04-28T21:01:49.120437Z"
    }
   },
   "outputs": [],
   "source": [
    "print(iris.target_names)"
   ]
  },
  {
   "cell_type": "code",
   "execution_count": null,
   "metadata": {
    "execution": {
     "iopub.execute_input": "2025-04-28T21:02:22.605530Z",
     "iopub.status.busy": "2025-04-28T21:02:22.605202Z",
     "iopub.status.idle": "2025-04-28T21:02:22.609800Z",
     "shell.execute_reply": "2025-04-28T21:02:22.608916Z",
     "shell.execute_reply.started": "2025-04-28T21:02:22.605506Z"
    }
   },
   "outputs": [],
   "source": [
    "print(iris.DESCR)"
   ]
  },
  {
   "cell_type": "markdown",
   "metadata": {},
   "source": [
    "# Dividir em dados de treino e teste (80% treino, 20% teste)"
   ]
  },
  {
   "cell_type": "code",
   "execution_count": null,
   "metadata": {
    "execution": {
     "iopub.execute_input": "2025-04-28T21:09:30.835632Z",
     "iopub.status.busy": "2025-04-28T21:09:30.835362Z",
     "iopub.status.idle": "2025-04-28T21:09:30.842841Z",
     "shell.execute_reply": "2025-04-28T21:09:30.841838Z",
     "shell.execute_reply.started": "2025-04-28T21:09:30.835615Z"
    }
   },
   "outputs": [],
   "source": [
    "X_train, X_test, y_train, y_test = train_test_split(X, y, test_size=0.2, random_state=42)"
   ]
  },
  {
   "cell_type": "markdown",
   "metadata": {},
   "source": [
    "# Criar o modelo KNN (usando 3 vizinhos)"
   ]
  },
  {
   "cell_type": "code",
   "execution_count": null,
   "metadata": {
    "execution": {
     "iopub.execute_input": "2025-04-28T21:11:28.050873Z",
     "iopub.status.busy": "2025-04-28T21:11:28.050313Z",
     "iopub.status.idle": "2025-04-28T21:11:28.072352Z",
     "shell.execute_reply": "2025-04-28T21:11:28.071600Z",
     "shell.execute_reply.started": "2025-04-28T21:11:28.050847Z"
    }
   },
   "outputs": [],
   "source": [
    "knn = KNeighborsClassifier(n_neighbors=3)\n",
    "\n",
    "# Treinar o modelo com os dados de treino\n",
    "knn.fit(X_train, y_train)"
   ]
  },
  {
   "cell_type": "markdown",
   "metadata": {},
   "source": [
    "# Fazer previsões e calcular a acurácia"
   ]
  },
  {
   "cell_type": "code",
   "execution_count": null,
   "metadata": {
    "execution": {
     "iopub.execute_input": "2025-04-28T21:14:45.184880Z",
     "iopub.status.busy": "2025-04-28T21:14:45.184232Z",
     "iopub.status.idle": "2025-04-28T21:14:45.200025Z",
     "shell.execute_reply": "2025-04-28T21:14:45.199315Z",
     "shell.execute_reply.started": "2025-04-28T21:14:45.184850Z"
    }
   },
   "outputs": [],
   "source": [
    "# Prever os rótulos para os dados de teste\n",
    "y_pred = knn.predict(X_test)\n",
    "\n",
    "# Calcular a acurácia do modelo\n",
    "accuracy = accuracy_score(y_test, y_pred)\n",
    "\n",
    "print(f'Acurácia do modelo KNN: {accuracy * 100:.2f}%')\n"
   ]
  },
  {
   "cell_type": "markdown",
   "metadata": {},
   "source": [
    "Agora que o modelo está treinado, podemos fazer uma previsão para uma nova flor.\n",
    "\n",
    "Comprimento da sépala: 5.1\n",
    "\n",
    "Largura da sépala: 3.5\n",
    "\n",
    "Comprimento da pétala: 1.4\n",
    "\n",
    "Largura da pétala: 0.2"
   ]
  },
  {
   "cell_type": "code",
   "execution_count": null,
   "metadata": {
    "execution": {
     "iopub.execute_input": "2025-04-28T21:28:30.502412Z",
     "iopub.status.busy": "2025-04-28T21:28:30.502024Z",
     "iopub.status.idle": "2025-04-28T21:28:30.515548Z",
     "shell.execute_reply": "2025-04-28T21:28:30.514615Z",
     "shell.execute_reply.started": "2025-04-28T21:28:30.502373Z"
    }
   },
   "outputs": [],
   "source": [
    "# Definir as características de uma nova flor\n",
    "nova_flor = np.array([[5.1, 3.5, 1.4, 0.2]])\n",
    "\n",
    "# Fazer a previsão\n",
    "classe_predita = knn.predict(nova_flor)\n",
    "\n",
    "# Exibir o nome da classe prevista\n",
    "print(f'A flor é: {data.target_names[classe_predita][0]}')\n"
   ]
  }
 ],
 "metadata": {
  "kaggle": {
   "accelerator": "none",
   "dataSources": [],
   "dockerImageVersionId": 31012,
   "isGpuEnabled": false,
   "isInternetEnabled": true,
   "language": "python",
   "sourceType": "notebook"
  },
  "kernelspec": {
   "display_name": "venv",
   "language": "python",
   "name": "python3"
  },
  "language_info": {
   "codemirror_mode": {
    "name": "ipython",
    "version": 3
   },
   "file_extension": ".py",
   "mimetype": "text/x-python",
   "name": "python",
   "nbconvert_exporter": "python",
   "pygments_lexer": "ipython3",
   "version": "3.13.3"
  }
 },
 "nbformat": 4,
 "nbformat_minor": 4
}
